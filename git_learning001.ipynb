{
 "cells": [
  {
   "cell_type": "markdown",
   "metadata": {},
   "source": [
    "# git教程\n",
    "\n",
    "## 一、git基础操作\n",
    "### 1.1创建用户，创建版本库"
   ]
  },
  {
   "cell_type": "code",
   "execution_count": 15,
   "metadata": {},
   "outputs": [
    {
     "name": "stdout",
     "output_type": "stream",
     "text": [
      "重新初始化现存的 Git 仓库于 /home/doit/czy_code/GitLearning/.git/\n"
     ]
    },
    {
     "name": "stderr",
     "output_type": "stream",
     "text": [
      "mkdir: 无法创建目录\"GitLearning\": 文件已存在\n"
     ]
    }
   ],
   "source": [
    "%%bash\n",
    "git config --global user.name \"czy\"\n",
    "git config --global user.email \"czy36mengfei@163.com\"\n",
    "mkdir GitLearning\n",
    "cd GitLearning\n",
    "git init\n",
    "echo \"git is a good tool\" > readme.md\n"
   ]
  },
  {
   "cell_type": "code",
   "execution_count": 18,
   "metadata": {},
   "outputs": [
    {
     "name": "stdout",
     "output_type": "stream",
     "text": [
      "[master （根提交） 162bc67] updata0131\n",
      " 1 file changed, 1 insertion(+)\n",
      " create mode 100644 readme.md\n",
      "位于分支 master\n",
      "无文件要提交，干净的工作区\n"
     ]
    }
   ],
   "source": [
    "%%bash\n",
    "git add readme.md\n",
    "git commit -m 'updata0131'\n",
    "git status"
   ]
  },
  {
   "cell_type": "markdown",
   "metadata": {},
   "source": [
    "### 2.1版本管理-修改与撤销"
   ]
  },
  {
   "cell_type": "code",
   "execution_count": 19,
   "metadata": {},
   "outputs": [
    {
     "name": "stdout",
     "output_type": "stream",
     "text": [
      "git is a good tool\n",
      "git is a good tool\n",
      "hello\n",
      "[master cfd44fb] updata0131\n",
      " 1 file changed, 1 insertion(+)\n"
     ]
    }
   ],
   "source": [
    "%%bash\n",
    "cat readme.md\n",
    "echo \"hello\" >> readme.md\n",
    "cat readme.md\n",
    "git add readme.md\n",
    "git commit -m 'updata0131'\n"
   ]
  },
  {
   "cell_type": "code",
   "execution_count": 20,
   "metadata": {},
   "outputs": [
    {
     "name": "stdout",
     "output_type": "stream",
     "text": [
      "commit cfd44fb9b462942c00f2241e4ab0adb5982dfffd\n",
      "Author: czy <czy36mengfei@163.com>\n",
      "Date:   Thu Jan 31 20:17:49 2019 +0800\n",
      "\n",
      "    updata0131\n",
      "\n",
      "commit 162bc6794f543549a087aaecfedddd74c0f0abc2\n",
      "Author: czy <czy36mengfei@163.com>\n",
      "Date:   Thu Jan 31 20:13:03 2019 +0800\n",
      "\n",
      "    updata0131\n",
      "cfd44fb9b462942c00f2241e4ab0adb5982dfffd updata0131\n",
      "162bc6794f543549a087aaecfedddd74c0f0abc2 updata0131\n",
      "HEAD 现在位于 162bc67 updata0131\n",
      "commit 162bc6794f543549a087aaecfedddd74c0f0abc2\n",
      "Author: czy <czy36mengfei@163.com>\n",
      "Date:   Thu Jan 31 20:13:03 2019 +0800\n",
      "\n",
      "    updata0131\n"
     ]
    },
    {
     "name": "stderr",
     "output_type": "stream",
     "text": [
      "cat: readme.txt: 没有那个文件或目录\n"
     ]
    }
   ],
   "source": [
    "%%bash\n",
    "git log\n",
    "git log --pretty=oneline\n",
    "git reset --hard HEAD^\n",
    "cat readme.txt\n",
    "git log"
   ]
  },
  {
   "cell_type": "code",
   "execution_count": 22,
   "metadata": {},
   "outputs": [
    {
     "name": "stdout",
     "output_type": "stream",
     "text": [
      "git is a good tool\n",
      "jjjj0000\n",
      "[master 4fb6396] updata003\n",
      " 1 file changed, 1 insertion(+), 1 deletion(-)\n",
      "commit 4fb6396ac6228061a42d4c020c6ae419c11b4d4e\n",
      "Author: czy <czy36mengfei@163.com>\n",
      "Date:   Thu Jan 31 20:27:36 2019 +0800\n",
      "\n",
      "    updata003\n",
      "\n",
      "commit 162bc6794f543549a087aaecfedddd74c0f0abc2\n",
      "Author: czy <czy36mengfei@163.com>\n",
      "Date:   Thu Jan 31 20:13:03 2019 +0800\n",
      "\n",
      "    updata0131\n",
      "HEAD 现在位于 162bc67 updata0131\n",
      "git is a good tool\n",
      "162bc67 HEAD@{0}: reset: moving to 162bc\n",
      "4fb6396 HEAD@{1}: commit: updata003\n",
      "162bc67 HEAD@{2}: reset: moving to HEAD^\n",
      "cfd44fb HEAD@{3}: commit: updata0131\n",
      "162bc67 HEAD@{4}: commit (initial): updata0131\n"
     ]
    }
   ],
   "source": [
    "%%bash\n",
    "cat readme.md\n",
    "echo 'jjjj0000' > readme.md\n",
    "cat readme.md\n",
    "git add ./\n",
    "git commit -m 'updata003'\n",
    "git log\n",
    "git reset --hard 162bc\n",
    "cat readme.md\n",
    "git reflog\n",
    "\n"
   ]
  },
  {
   "cell_type": "code",
   "execution_count": 1,
   "metadata": {},
   "outputs": [
    {
     "name": "stdout",
     "output_type": "stream",
     "text": [
      "位于分支 master\n",
      "尚未暂存以备提交的变更：\n",
      "  （使用 \"git add <文件>...\" 更新要提交的内容）\n",
      "  （使用 \"git checkout -- <文件>...\" 丢弃工作区的改动）\n",
      "\n",
      "\t修改：     readme.md\n",
      "\n",
      "未跟踪的文件:\n",
      "  （使用 \"git add <文件>...\" 以包含要提交的内容）\n",
      "\n",
      "\tLECENCE\n",
      "\n",
      "修改尚未加入提交（使用 \"git add\" 和/或 \"git commit -a\"）\n",
      "位于分支 master\n",
      "要提交的变更：\n",
      "  （使用 \"git reset HEAD <文件>...\" 以取消暂存）\n",
      "\n",
      "\t新文件：   LECENCE\n",
      "\t修改：     readme.md\n",
      "\n"
     ]
    }
   ],
   "source": [
    "%%bash\n",
    "echo \"tt\" >> readme.md\n",
    "echo \"lecence\" > LECENCE\n",
    "git status\n",
    "git add readme.md\n",
    "git add LECENCE\n",
    "git status\n"
   ]
  },
  {
   "cell_type": "code",
   "execution_count": 2,
   "metadata": {},
   "outputs": [
    {
     "name": "stdout",
     "output_type": "stream",
     "text": [
      "位于分支 master\n",
      "要提交的变更：\n",
      "  （使用 \"git reset HEAD <文件>...\" 以取消暂存）\n",
      "\n",
      "\t新文件：   LECENCE\n",
      "\t修改：     readme.md\n",
      "\n",
      "尚未暂存以备提交的变更：\n",
      "  （使用 \"git add <文件>...\" 更新要提交的内容）\n",
      "  （使用 \"git checkout -- <文件>...\" 丢弃工作区的改动）\n",
      "\n",
      "\t修改：     readme.md\n",
      "\n",
      "位于分支 master\n",
      "要提交的变更：\n",
      "  （使用 \"git reset HEAD <文件>...\" 以取消暂存）\n",
      "\n",
      "\t新文件：   LECENCE\n",
      "\t修改：     readme.md\n",
      "\n",
      "位于分支 master\n",
      "要提交的变更：\n",
      "  （使用 \"git reset HEAD <文件>...\" 以取消暂存）\n",
      "\n",
      "\t新文件：   LECENCE\n",
      "\t修改：     readme.md\n",
      "\n",
      "重置后取消暂存的变更：\n",
      "M\treadme.md\n",
      "位于分支 master\n",
      "要提交的变更：\n",
      "  （使用 \"git reset HEAD <文件>...\" 以取消暂存）\n",
      "\n",
      "\t新文件：   LECENCE\n",
      "\n",
      "尚未暂存以备提交的变更：\n",
      "  （使用 \"git add <文件>...\" 更新要提交的内容）\n",
      "  （使用 \"git checkout -- <文件>...\" 丢弃工作区的改动）\n",
      "\n",
      "\t修改：     readme.md\n",
      "\n",
      "git is a good tool\n",
      "tt\n",
      "wrong\n"
     ]
    }
   ],
   "source": [
    "%%bash\n",
    "echo \"error\" >> readme.md\n",
    "git status\n",
    "git checkout -- readme.md\n",
    "git status\n",
    "echo \"wrong\" >> readme.md\n",
    "git add readme.md\n",
    "git status\n",
    "git reset HEAD readme.md\n",
    "git status\n",
    "cat readme.md"
   ]
  },
  {
   "cell_type": "code",
   "execution_count": 7,
   "metadata": {},
   "outputs": [
    {
     "name": "stdout",
     "output_type": "stream",
     "text": [
      "位于分支 master\n",
      "要提交的变更：\n",
      "  （使用 \"git reset HEAD <文件>...\" 以取消暂存）\n",
      "\n",
      "\t新文件：   LECENCE\n",
      "\t修改：     readme.md\n",
      "\n",
      "尚未暂存以备提交的变更：\n",
      "  （使用 \"git add/rm <文件>...\" 更新要提交的内容）\n",
      "  （使用 \"git checkout -- <文件>...\" 丢弃工作区的改动）\n",
      "\n",
      "\t删除：     LECENCE\n",
      "\n",
      "rm 'LECENCE'\n",
      "[master a5f89d1] remove\n",
      " 1 file changed, 2 insertions(+)\n"
     ]
    }
   ],
   "source": [
    "%%bash\n",
    "git add readme.md\n",
    "rm LECENCE\n",
    "git status\n",
    "git rm LECENCE\n",
    "git commit -m 'remove'\n",
    "\n"
   ]
  },
  {
   "cell_type": "code",
   "execution_count": null,
   "metadata": {},
   "outputs": [],
   "source": []
  }
 ],
 "metadata": {
  "kernelspec": {
   "display_name": "Python 3",
   "language": "python",
   "name": "python3"
  },
  "language_info": {
   "codemirror_mode": {
    "name": "ipython",
    "version": 3
   },
   "file_extension": ".py",
   "mimetype": "text/x-python",
   "name": "python",
   "nbconvert_exporter": "python",
   "pygments_lexer": "ipython3",
   "version": "3.6.5"
  }
 },
 "nbformat": 4,
 "nbformat_minor": 2
}
